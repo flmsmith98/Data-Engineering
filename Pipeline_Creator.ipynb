{
 "cells": [
  {
   "cell_type": "markdown",
   "id": "e3bf0613-d6ec-4cf4-87e5-062fd3bd3a82",
   "metadata": {},
   "source": [
    "### Installation\n",
    "Install the packages required for executing this notebook."
   ]
  },
  {
   "cell_type": "code",
   "execution_count": 1,
   "id": "69f1d825-84cc-43ac-9fe2-f204d77f0962",
   "metadata": {},
   "outputs": [
    {
     "name": "stdout",
     "output_type": "stream",
     "text": [
      "\u001b[31mERROR: pip's dependency resolver does not currently take into account all the packages that are installed. This behaviour is the source of the following dependency conflicts.\n",
      "kfp 1.8.14 requires google-cloud-storage<2,>=1.20.0, but you have google-cloud-storage 2.5.0 which is incompatible.\n",
      "google-cloud-pipeline-components 1.0.25 requires google-cloud-storage<2,>=1.20.0, but you have google-cloud-storage 2.5.0 which is incompatible.\u001b[0m\u001b[31m\n",
      "\u001b[0m"
     ]
    }
   ],
   "source": [
    "import os\n",
    "\n",
    "# The Vertex AI Workbench Notebook product has specific requirements\n",
    "IS_WORKBENCH_NOTEBOOK = os.getenv(\"DL_ANACONDA_HOME\") and not os.getenv(\"VIRTUAL_ENV\")\n",
    "IS_USER_MANAGED_WORKBENCH_NOTEBOOK = os.path.exists(\n",
    "    \"/opt/deeplearning/metadata/env_version\"\n",
    ")\n",
    "\n",
    "# Vertex AI Notebook requires dependencies to be installed with '--user'\n",
    "USER_FLAG = \"\"\n",
    "if IS_WORKBENCH_NOTEBOOK:\n",
    "    USER_FLAG = \"--user\"\n",
    "\n",
    "! pip3 install --upgrade google-cloud-aiplatform {USER_FLAG} -q\n",
    "! pip3 install -U google-cloud-storage {USER_FLAG} -q\n",
    "! pip3 install {USER_FLAG} kfp google-cloud-pipeline-components --upgrade -q"
   ]
  },
  {
   "cell_type": "markdown",
   "id": "62bc6a21-604f-4a52-b904-e3bb18a61b2f",
   "metadata": {},
   "source": [
    "## Restart the kernel\n",
    "Once you've installed the additional packages, you need to restart the notebook kernel so it can find the packages."
   ]
  },
  {
   "cell_type": "code",
   "execution_count": 2,
   "id": "52dad0c4-c173-46b8-bf99-d6e8efc35316",
   "metadata": {},
   "outputs": [],
   "source": [
    "import os\n",
    "\n",
    "if not os.getenv(\"IS_TESTING\"):\n",
    "    # Automatically restart kernel after installs\n",
    "    import IPython\n",
    "\n",
    "    app = IPython.Application.instance()\n",
    "    app.kernel.do_shutdown(True)"
   ]
  },
  {
   "cell_type": "markdown",
   "id": "f2207b06-771f-4dbb-a713-90c50745c0ea",
   "metadata": {},
   "source": [
    "Check the versions of the packages you installed. The KFP SDK version should be >=1.6."
   ]
  },
  {
   "cell_type": "code",
   "execution_count": 1,
   "id": "b5b60838-e5a2-41cd-ae93-43925343fba5",
   "metadata": {},
   "outputs": [
    {
     "name": "stdout",
     "output_type": "stream",
     "text": [
      "KFP SDK version: 1.8.14\n"
     ]
    }
   ],
   "source": [
    "! python3 -c \"import kfp; print('KFP SDK version: {}'.format(kfp.__version__))\""
   ]
  },
  {
   "cell_type": "code",
   "execution_count": 2,
   "id": "5f0bcff2-3ffb-4e51-b852-511cb10ad0f9",
   "metadata": {},
   "outputs": [],
   "source": [
    "import kfp\n",
    "from kfp.v2 import dsl\n",
    "from kfp.v2.dsl import component\n",
    "from kfp.v2.dsl import (\n",
    "    Input,\n",
    "    Output,\n",
    "    Artifact,\n",
    "    Dataset,\n",
    ")"
   ]
  },
  {
   "cell_type": "markdown",
   "id": "01afffb0-449b-4669-807a-793f526277fe",
   "metadata": {},
   "source": [
    "#### Project and Pipeline Configurations"
   ]
  },
  {
   "cell_type": "code",
   "execution_count": 3,
   "id": "abf6aad4-f675-47aa-820b-14daa796d89f",
   "metadata": {},
   "outputs": [],
   "source": [
    "#The Google Cloud project that this pipeline runs in.\n",
    "project_id = \"de-project-363307\"\n",
    "# The region that this pipeline runs in\n",
    "region = \"us-west1\"\n",
    "# Specify a Cloud Storage URI that your pipelines service account can access. The artifacts of your pipeline runs are stored within the pipeline root.\n",
    "pipeline_root_path = \"gs://bodyfat-temp\""
   ]
  },
  {
   "cell_type": "markdown",
   "id": "05bace39-57ba-49ee-bd74-9eaf4093f471",
   "metadata": {},
   "source": [
    "#### Create Pipeline Components\n",
    "\n",
    "We can create a component from Python functions (inline) and from a container. We will first try inline python functions. \n",
    "\n",
    "Step 1: Define the python function\n",
    "\n",
    "Step 2:  Use **kfp.components.create_component_from_func** build the component. This function takes four parameters.\n",
    "\n",
    "**1.func**: The Python function to convert.\n",
    "\n",
    "**2.base_image**: (Optional.) Specify the Docker container image to run this function in. \n",
    "\n",
    "**3.output_component_file**: (Optional.) Writes your component definition to a file. \n",
    "\n",
    "**4.packages_to_install**: (Optional.) A list of versioned Python packages to install before running your function.\n",
    "\n",
    "Another thing we need to consider is passing parameters between components. We can pass simple parameters such as integer, string, tuple, dict, and list by values. To pass the large datasets or complex configurations, we can use files. We can annotate the Python function’s parameters to indicate input or output files for the component. \n",
    "\n",
    "Refer to  https://www.kubeflow.org/docs/components/pipelines/sdk/python-function-components/ for more information."
   ]
  },
  {
   "cell_type": "markdown",
   "id": "2457ef88-cd95-4304-b6e0-143b718c44aa",
   "metadata": {},
   "source": [
    "#### Pipeline Component : Data Ingestion"
   ]
  },
  {
   "cell_type": "code",
   "execution_count": 4,
   "id": "83bc305f-2456-4c07-b89f-427b0f24eaf2",
   "metadata": {},
   "outputs": [],
   "source": [
    "from typing import Dict\n",
    "\n",
    "def download_data(project_id: str, bucket: str, file_name: str) -> Dict:\n",
    "    '''download data'''\n",
    "    from google.cloud import storage\n",
    "    import pandas as pd\n",
    "    import logging \n",
    "    import sys\n",
    "    \n",
    "    logging.basicConfig(stream=sys.stdout, level=logging.INFO)\n",
    "    \n",
    "    # Downloaing the file from a google bucket \n",
    "    client = storage.Client(project=project_id)\n",
    "    bucket = client.get_bucket(bucket)\n",
    "    blob = bucket.blob(file_name)\n",
    "    local_path = '/tmp/'+ file_name\n",
    "    blob.download_to_filename(local_path)\n",
    "    logging.info('Downloaded Data!')\n",
    "    \n",
    "    # Convert the data to a dictiory object    \n",
    "    dict_from_csv = pd.read_csv(local_path, index_col=None, squeeze=True).to_dict()\n",
    "    logging.info('Returning Data as Dictionary Object!')\n",
    "    return dict_from_csv"
   ]
  },
  {
   "cell_type": "code",
   "execution_count": 5,
   "id": "e32942c5-9171-4724-b8f7-e5fb7ab6a037",
   "metadata": {},
   "outputs": [],
   "source": [
    "# create a KFP component for data ingestion\n",
    "data_ingestion_comp = kfp.components.create_component_from_func(\n",
    "    download_data, output_component_file='data_ingestion.yaml', packages_to_install=['google-cloud-storage', 'pandas'])"
   ]
  },
  {
   "cell_type": "markdown",
   "id": "cb3494d2-bea7-415f-9832-fcf1f2c9fe4a",
   "metadata": {},
   "source": [
    "#### Pipeline Component : Training Linear Regression"
   ]
  },
  {
   "cell_type": "code",
   "execution_count": 117,
   "id": "e194fc48-1343-4bd5-9c69-f3d1ce826321",
   "metadata": {},
   "outputs": [],
   "source": [
    "from typing import NamedTuple, Dict\n",
    "def train_lr (features: Dict, project_id: str, model_repo: str) -> Dict:\n",
    "    '''train a Linear Regression with default parameters'''\n",
    "    import pandas as pd\n",
    "    import numpy as np\n",
    "    from sklearn.linear_model import LinearRegression\n",
    "    from sklearn.model_selection import train_test_split\n",
    "    from sklearn.preprocessing import PowerTransformer\n",
    "    from sklearn.metrics import r2_score\n",
    "    from sklearn.metrics import mean_squared_error\n",
    "    from google.cloud import storage\n",
    "    import pickle\n",
    "    import json\n",
    "    import logging \n",
    "    import sys\n",
    "    import os\n",
    "    \n",
    "    \n",
    "    logging.basicConfig(stream=sys.stdout, level=logging.INFO)\n",
    "    \n",
    "    df = pd.DataFrame.from_dict(features)  \n",
    "    \n",
    "    logging.info(df.columns)\n",
    "        \n",
    "    X = df.drop(['BodyFat', 'Density'], axis=1)\n",
    "    y = df['Density']\n",
    "\n",
    "    X['Bmi'] = 703 * X['Weight'] / (X['Height'] * X['Height'])\n",
    "    X['ACratio'] = X['Abdomen'] / X['Chest']\n",
    "    X['HTratio'] = X['Hip'] / X['Thigh']\n",
    "    X.drop(['Weight', 'Height', 'Abdomen', 'Chest', 'Hip', 'Thigh'], axis=1, inplace=True)\n",
    "\n",
    "    # Splitting the data for the model\n",
    "    X_train, X_test, y_train, y_test = train_test_split(X, y, random_state=42)\n",
    "\n",
    "    #Transformer\n",
    "    trans = PowerTransformer()\n",
    "    X_train = trans.fit_transform(X_train)\n",
    "    X_test = trans.transform(X_test)\n",
    "\n",
    "    # define and fit model\n",
    "    model = LinearRegression()\n",
    "    model.fit(X_train, y_train)\n",
    "    y_pred = model.predict(X_test)\n",
    "    # evaluate the model\n",
    "    r2 = r2_score(y_test, y_pred)\n",
    "    rmse = np.sqrt(mean_squared_error(y_test, y_pred))\n",
    "    lr_metrics = {\n",
    "        \"R2\": r2,\n",
    "    #    \"RMSE\": rmse,\n",
    "    }\n",
    "    logging.info(lr_metrics)\n",
    "    \n",
    "    # Save the model localy\n",
    "    local_file = '/tmp/local_model.pkl'\n",
    "    pickle.dump(model, open(local_file, 'wb'))\n",
    "    \n",
    "    #Save the transformer localy\n",
    "    local_file_trans = '/tmp/transformer.pkl'\n",
    "    pickle.dump(trans, open(local_file_trans, 'wb'))\n",
    "     # write out output\n",
    "  \n",
    "    # Save to GCS as model.pkl\n",
    "    client = storage.Client(project=project_id)\n",
    "    bucket = client.get_bucket(model_repo)\n",
    "    blob = bucket.blob('model.pkl')\n",
    "    blob_t = bucket.blob('transformer.pkl')\n",
    "    # Upload the locally saved model\n",
    "    blob.upload_from_filename(local_file)\n",
    "    blob_t.upload_from_filename(local_file_trans)\n",
    "\n",
    "    print(\"Saved the model to GCP bucket : \" + model_repo)\n",
    "    return lr_metrics"
   ]
  },
  {
   "cell_type": "code",
   "execution_count": 118,
   "id": "8f670759-2b2b-4636-a941-44b741e1a88d",
   "metadata": {},
   "outputs": [],
   "source": [
    "# create a KFP component for training \n",
    "train_lr_com = kfp.components.create_component_from_func(\n",
    "    train_lr, output_component_file='training_lr.yaml', packages_to_install=['google-cloud-storage', 'pandas', 'sklearn', 'np'])"
   ]
  },
  {
   "cell_type": "markdown",
   "id": "a2848afc-f755-4488-a123-4fe8deb21fb3",
   "metadata": {},
   "source": [
    "#### Pipeline Component: Train Ridge regression"
   ]
  },
  {
   "cell_type": "code",
   "execution_count": 119,
   "id": "39c00561-d714-44fe-80d9-ab9459830f02",
   "metadata": {},
   "outputs": [],
   "source": [
    "from typing import NamedTuple, Dict\n",
    "def train_ridge (features: Dict, project_id: str, model_repo: str) -> Dict:\n",
    "    '''train a Ridge regression with default parameters'''\n",
    "    import pandas as pd\n",
    "    import numpy as np\n",
    "    from sklearn.linear_model import Ridge\n",
    "    from sklearn.model_selection import train_test_split\n",
    "    from sklearn.preprocessing import PowerTransformer\n",
    "    from sklearn.metrics import r2_score\n",
    "    from sklearn.metrics import mean_squared_error\n",
    "    from google.cloud import storage\n",
    "    import pickle\n",
    "    import json\n",
    "    import logging \n",
    "    import sys\n",
    "    import os\n",
    "    \n",
    "    \n",
    "    logging.basicConfig(stream=sys.stdout, level=logging.INFO)\n",
    "    \n",
    "    df = pd.DataFrame.from_dict(features)  \n",
    "    \n",
    "    logging.info(df.columns)\n",
    "        \n",
    "    X = df.drop(['BodyFat', 'Density'], axis=1)\n",
    "    y = df['Density']\n",
    "\n",
    "    X['Bmi'] = 703 * X['Weight'] / (X['Height'] * X['Height'])\n",
    "    X['ACratio'] = X['Abdomen'] / X['Chest']\n",
    "    X['HTratio'] = X['Hip'] / X['Thigh']\n",
    "    X.drop(['Weight', 'Height', 'Abdomen', 'Chest', 'Hip', 'Thigh'], axis=1, inplace=True)\n",
    "\n",
    "    # Splitting the data for the model\n",
    "    X_train, X_test, y_train, y_test = train_test_split(X, y, random_state=42)\n",
    "\n",
    "    #Transformer\n",
    "    trans = PowerTransformer()\n",
    "    X_train = trans.fit_transform(X_train)\n",
    "    X_test = trans.transform(X_test)\n",
    "\n",
    "    # define and fit model\n",
    "    model = Ridge()\n",
    "    model.fit(X_train, y_train)\n",
    "    y_pred = model.predict(X_test)\n",
    "    # evaluate the model\n",
    "    r2 = r2_score(y_test, y_pred)\n",
    "    rmse = np.sqrt(mean_squared_error(y_test, y_pred))\n",
    "    ridge_metrics = {\n",
    "        \"R2\": r2,\n",
    "    #    \"RMSE\": rmse,\n",
    "    }\n",
    "    logging.info(ridge_metrics)\n",
    "    \n",
    "    # Save the model localy\n",
    "    local_file = '/tmp/local_model_ridge.pkl'\n",
    "    pickle.dump(model, open(local_file, 'wb'))\n",
    "    \n",
    "    #Save the transformer localy\n",
    "    local_file_trans = '/tmp/transformer.pkl'\n",
    "    pickle.dump(trans, open(local_file_trans, 'wb'))\n",
    "     # write out output\n",
    "  \n",
    "    # Save to GCS as model.pkl\n",
    "    client = storage.Client(project=project_id)\n",
    "    bucket = client.get_bucket(model_repo)\n",
    "    blob = bucket.blob('model_ridge.pkl')\n",
    "    blob_t = bucket.blob('transformer.pkl')\n",
    "    # Upload the locally saved model\n",
    "    blob.upload_from_filename(local_file)\n",
    "    blob_t.upload_from_filename(local_file_trans)\n",
    "\n",
    "    print(\"Saved the model to GCP bucket : \" + model_repo)\n",
    "    return ridge_metrics"
   ]
  },
  {
   "cell_type": "code",
   "execution_count": 120,
   "id": "14a3f425-ec4e-4ed8-b787-d245c4df85d8",
   "metadata": {},
   "outputs": [],
   "source": [
    "# create a KFP component for training \n",
    "train_ridge_com = kfp.components.create_component_from_func(\n",
    "    train_ridge, output_component_file='train_ridge.yaml', packages_to_install=['google-cloud-storage', 'pandas', 'sklearn', 'np'])"
   ]
  },
  {
   "cell_type": "markdown",
   "id": "07f4e9c1-a1d4-412f-8533-8e741fd3f79c",
   "metadata": {},
   "source": [
    "#### Pipeline Component : Prediction-LR"
   ]
  },
  {
   "cell_type": "code",
   "execution_count": 121,
   "id": "e70377d6-f3f8-4320-9689-9e17a695674a",
   "metadata": {},
   "outputs": [],
   "source": [
    "def predict_lr(project_id: str, model_repo: str, features: Dict) -> Dict:\n",
    "    import pandas as pd\n",
    "    from google.cloud import storage\n",
    "    from sklearn.preprocessing import PowerTransformer\n",
    "    import pickle \n",
    "    import json\n",
    "    import logging\n",
    "    import sys\n",
    "    import os\n",
    "    \n",
    "    logging.basicConfig(stream=sys.stdout, level=logging.INFO)\n",
    "    \n",
    "    df = pd.DataFrame.from_dict(features)    \n",
    "    \n",
    "    client = storage.Client(project=project_id)\n",
    "    bucket = client.get_bucket(model_repo)\n",
    "    blob = bucket.blob('model.pkl')\n",
    "    filename = '/tmp/local_model.pkl'\n",
    "    blob.download_to_filename(filename)\n",
    "    blob_t = bucket.blob('transformer.pkl')\n",
    "    filename_t = '/tmp/transformer.pkl'\n",
    "    blob_t.download_to_filename(filename_t)\n",
    "        \n",
    "    #Loading the saved model with joblib\n",
    "    model = pickle.load(open(filename, 'rb'))\n",
    "    transformer = pickle.load(open(filename_t, 'rb'))\n",
    "    \n",
    "    X = df.drop(['BodyFat', 'Density'], axis=1)\n",
    "\n",
    "    X['Bmi'] = 703 * X['Weight'] / (X['Height'] * X['Height'])\n",
    "    X['ACratio'] = X['Abdomen'] / X['Chest']\n",
    "    X['HTratio'] = X['Hip'] / X['Thigh']\n",
    "    X.drop(['Weight', 'Height', 'Abdomen', 'Chest', 'Hip', 'Thigh'], axis=1, inplace=True)\n",
    "\n",
    "    #Transformer\n",
    "    X = transformer.transform(X)    \n",
    "    \n",
    "    dfcp = df.copy()   \n",
    "    y_classes = model.predict(X)\n",
    "    logging.info(y_classes)\n",
    "    dfcp['pclass'] = y_classes.tolist()\n",
    "    dic = dfcp.to_dict(orient='records') \n",
    "    return dic"
   ]
  },
  {
   "cell_type": "code",
   "execution_count": 122,
   "id": "d8f0dbde-9fee-4d37-b81e-6ea4abdbceb0",
   "metadata": {},
   "outputs": [],
   "source": [
    "# create a KFP component for prediction LR \n",
    "prediction_lr_com = kfp.components.create_component_from_func(\n",
    "    predict_lr, output_component_file='prediction_lr_com.yaml', packages_to_install=['google-cloud-storage', 'pandas', 'sklearn'])"
   ]
  },
  {
   "cell_type": "markdown",
   "id": "400b82c5-a700-4b60-b0f1-450382af1d5c",
   "metadata": {},
   "source": [
    "#### Pipeline Component: Prediciton Ridge "
   ]
  },
  {
   "cell_type": "code",
   "execution_count": 123,
   "id": "8b34f9da-14c8-41ea-a25a-a2037601f792",
   "metadata": {},
   "outputs": [],
   "source": [
    "def predict_ridge(project_id: str, model_repo: str, features: Dict) -> Dict:\n",
    "    import pandas as pd\n",
    "    from google.cloud import storage\n",
    "    from sklearn.preprocessing import PowerTransformer\n",
    "    import pickle \n",
    "    import json\n",
    "    import logging\n",
    "    import sys\n",
    "    import os\n",
    "    \n",
    "    logging.basicConfig(stream=sys.stdout, level=logging.INFO)\n",
    "    \n",
    "    df = pd.DataFrame.from_dict(features)    \n",
    "    \n",
    "    client = storage.Client(project=project_id)\n",
    "    bucket = client.get_bucket(model_repo)\n",
    "    blob = bucket.blob('model_ridge.pkl')\n",
    "    filename = '/tmp/local_model_ridge.pkl'\n",
    "    blob.download_to_filename(filename)\n",
    "    blob_t = bucket.blob('transformer.pkl')\n",
    "    filename_t = '/tmp/transformer.pkl'\n",
    "    blob_t.download_to_filename(filename_t)\n",
    "        \n",
    "    #Loading the saved model with joblib\n",
    "    model = pickle.load(open(filename, 'rb'))\n",
    "    transformer = pickle.load(open(filename_t, 'rb'))\n",
    "    \n",
    "    X = df.drop(['BodyFat', 'Density'], axis=1)\n",
    "\n",
    "    X['Bmi'] = 703 * X['Weight'] / (X['Height'] * X['Height'])\n",
    "    X['ACratio'] = X['Abdomen'] / X['Chest']\n",
    "    X['HTratio'] = X['Hip'] / X['Thigh']\n",
    "    X.drop(['Weight', 'Height', 'Abdomen', 'Chest', 'Hip', 'Thigh'], axis=1, inplace=True)\n",
    "\n",
    "    #Transformer\n",
    "    X = transformer.transform(X)    \n",
    "    \n",
    "    dfcp = df.copy()   \n",
    "    y_classes = model.predict(X)\n",
    "    logging.info(y_classes)\n",
    "    dfcp['pclass'] = y_classes.tolist()\n",
    "    dic = dfcp.to_dict(orient='records') \n",
    "    return dic"
   ]
  },
  {
   "cell_type": "code",
   "execution_count": 124,
   "id": "5c3ac795-2e8b-44e3-9e7d-cfe148d0ce8b",
   "metadata": {},
   "outputs": [],
   "source": [
    "# create a KFP component for prediction Ridge\n",
    "prediction_ridge_com = kfp.components.create_component_from_func(\n",
    "    predict_ridge, output_component_file='prediction_ridge_com.yaml', packages_to_install=['google-cloud-storage', 'pandas', 'sklearn'])"
   ]
  },
  {
   "cell_type": "markdown",
   "id": "5582e7ea-b6a2-4ecf-a32f-10f9570d5f64",
   "metadata": {},
   "source": [
    "#### Pipeline Component: Algorithm Selection"
   ]
  },
  {
   "cell_type": "code",
   "execution_count": 125,
   "id": "a6874537-52c8-43df-a492-a49aa93d6525",
   "metadata": {},
   "outputs": [],
   "source": [
    "def compare_model(lr_metrics: Dict, ridge_metrics: Dict) -> str:\n",
    "    import logging\n",
    "    import json\n",
    "    import sys\n",
    "    logging.basicConfig(stream=sys.stdout, level=logging.INFO)\n",
    "    logging.info(lr_metrics)\n",
    "    logging.info(ridge_metrics)\n",
    "    if lr_metrics.get(\"R2\") > ridge_metrics.get(\"R2\"):\n",
    "        return \"LR\"\n",
    "    else :\n",
    "        return \"RIDGE\""
   ]
  },
  {
   "cell_type": "code",
   "execution_count": 126,
   "id": "80210d95-fe37-4947-b3de-5ae8bdaf8ae4",
   "metadata": {},
   "outputs": [],
   "source": [
    "#create a KFP component for selecting between LR and Ridge\n",
    "compare_model_com = kfp.components.create_component_from_func(\n",
    "    compare_model, output_component_file='algo_selecion_com.yaml')"
   ]
  },
  {
   "cell_type": "markdown",
   "id": "166590b3-f788-4e4c-8e31-fb981da56966",
   "metadata": {},
   "source": [
    "#### Define the Pipeline"
   ]
  },
  {
   "cell_type": "code",
   "execution_count": 127,
   "id": "a96b6ae0-234b-4883-ae95-8599689a5e07",
   "metadata": {},
   "outputs": [],
   "source": [
    "# Define the workflow of the pipeline.\n",
    "@kfp.dsl.pipeline(\n",
    "    name=\"bodyfat-predictor-training-pipeline\",\n",
    "    pipeline_root=pipeline_root_path)\n",
    "def pipeline(project_id: str, data_bucket: str, trainset_filename: str, model_repo: str, testset_filename: str, ):\n",
    "    \n",
    "    \n",
    "    di_op = data_ingestion_comp(\n",
    "        project_id=project_id,\n",
    "        bucket=data_bucket,\n",
    "        file_name=trainset_filename\n",
    "    )\n",
    "    \n",
    "     \n",
    "    training_lr_job_run_op = train_lr_com(\n",
    "        project_id=project_id,\n",
    "        model_repo=model_repo,       \n",
    "        features=di_op.output\n",
    "    )\n",
    "    \n",
    "    training_ridge_job_run_op = train_ridge_com(\n",
    "        project_id=project_id,\n",
    "        model_repo=model_repo,       \n",
    "        features=di_op.output\n",
    "    )\n",
    "    \n",
    "    pre_di_op = data_ingestion_comp(\n",
    "        project_id=project_id,\n",
    "        bucket=data_bucket,\n",
    "        file_name=testset_filename\n",
    "    ).after(training_lr_job_run_op, training_ridge_job_run_op)\n",
    "        \n",
    "        \n",
    "    comp_model__op = compare_model_com(training_lr_job_run_op.output,\n",
    "                                       training_ridge_job_run_op.output).after(training_lr_job_run_op, training_ridge_job_run_op)  \n",
    "    \n",
    "    # defining the branching condition\n",
    "    with dsl.Condition(comp_model__op.output==\"LR\"):\n",
    "        predict_lr_job_run_op = prediction_lr_com(\n",
    "        project_id=project_id,\n",
    "        model_repo=model_repo,       \n",
    "        features=pre_di_op.output\n",
    "        )\n",
    "    with dsl.Condition(comp_model__op.output==\"RIDGE\"):\n",
    "        predict_ridge_job_run_op = prediction_ridge_com(\n",
    "        project_id=project_id,\n",
    "        model_repo=model_repo,       \n",
    "        features=pre_di_op.output\n",
    "       )"
   ]
  },
  {
   "cell_type": "markdown",
   "id": "ac278200-c580-4f40-bc8b-1817d3b13c13",
   "metadata": {},
   "source": [
    "#### Compile the pipeline into a JSON file"
   ]
  },
  {
   "cell_type": "code",
   "execution_count": 128,
   "id": "f8ee4b21-89e6-4f63-845c-b249556ea919",
   "metadata": {},
   "outputs": [],
   "source": [
    "from kfp.v2 import compiler\n",
    "compiler.Compiler().compile(pipeline_func=pipeline,\n",
    "        package_path='bodyfat_predictor_training_pipeline.json')"
   ]
  },
  {
   "cell_type": "markdown",
   "id": "7f87025e-08d7-4608-b37d-c929b6eb5a3c",
   "metadata": {},
   "source": [
    "#### Submit the pipeline run"
   ]
  },
  {
   "cell_type": "code",
   "execution_count": 129,
   "id": "83b88e89-42cd-4e64-bc4e-8e3eddebccff",
   "metadata": {},
   "outputs": [
    {
     "name": "stdout",
     "output_type": "stream",
     "text": [
      "Creating PipelineJob\n",
      "PipelineJob created. Resource name: projects/273668530892/locations/us-central1/pipelineJobs/bodyfat-predictor-training-pipeline-20221025103621\n",
      "To use this PipelineJob in another session:\n",
      "pipeline_job = aiplatform.PipelineJob.get('projects/273668530892/locations/us-central1/pipelineJobs/bodyfat-predictor-training-pipeline-20221025103621')\n",
      "View Pipeline Job:\n",
      "https://console.cloud.google.com/vertex-ai/locations/us-central1/pipelines/runs/bodyfat-predictor-training-pipeline-20221025103621?project=273668530892\n",
      "PipelineJob projects/273668530892/locations/us-central1/pipelineJobs/bodyfat-predictor-training-pipeline-20221025103621 current state:\n",
      "PipelineState.PIPELINE_STATE_RUNNING\n",
      "PipelineJob projects/273668530892/locations/us-central1/pipelineJobs/bodyfat-predictor-training-pipeline-20221025103621 current state:\n",
      "PipelineState.PIPELINE_STATE_RUNNING\n",
      "PipelineJob projects/273668530892/locations/us-central1/pipelineJobs/bodyfat-predictor-training-pipeline-20221025103621 current state:\n",
      "PipelineState.PIPELINE_STATE_RUNNING\n",
      "PipelineJob projects/273668530892/locations/us-central1/pipelineJobs/bodyfat-predictor-training-pipeline-20221025103621 current state:\n",
      "PipelineState.PIPELINE_STATE_RUNNING\n",
      "PipelineJob projects/273668530892/locations/us-central1/pipelineJobs/bodyfat-predictor-training-pipeline-20221025103621 current state:\n",
      "PipelineState.PIPELINE_STATE_RUNNING\n",
      "PipelineJob run completed. Resource name: projects/273668530892/locations/us-central1/pipelineJobs/bodyfat-predictor-training-pipeline-20221025103621\n"
     ]
    }
   ],
   "source": [
    "import google.cloud.aiplatform as aip\n",
    "\n",
    "job = aip.PipelineJob(\n",
    "    display_name=\"bodyfat-predictor\",\n",
    "    enable_caching=False,\n",
    "    template_path=\"bodyfat_predictor_training_pipeline.json\",\n",
    "    pipeline_root=pipeline_root_path,\n",
    "    parameter_values={\n",
    "        'project_id': project_id , # makesure to use your project id \n",
    "        'data_bucket': 'bodyfat-data',  # makesure to use your data bucket name \n",
    "        'trainset_filename': 'training_set.csv',     # makesure to upload these to your data bucket from DE2022/lab4/data\n",
    "        'testset_filename': 'prediction_set.csv',    # makesure to upload these to your data bucket from DE2022/lab4/data\n",
    "        'model_repo':'bodyfat-model' # makesure to use your model bucket name \n",
    "    }\n",
    ")\n",
    "\n",
    "job.run()"
   ]
  }
 ],
 "metadata": {
  "environment": {
   "kernel": "python3",
   "name": "tf2-gpu.2-8.m97",
   "type": "gcloud",
   "uri": "gcr.io/deeplearning-platform-release/tf2-gpu.2-8:m97"
  },
  "kernelspec": {
   "display_name": "Python 3",
   "language": "python",
   "name": "python3"
  },
  "language_info": {
   "codemirror_mode": {
    "name": "ipython",
    "version": 3
   },
   "file_extension": ".py",
   "mimetype": "text/x-python",
   "name": "python",
   "nbconvert_exporter": "python",
   "pygments_lexer": "ipython3",
   "version": "3.7.12"
  }
 },
 "nbformat": 4,
 "nbformat_minor": 5
}
